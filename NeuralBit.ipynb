{
  "nbformat": 4,
  "nbformat_minor": 0,
  "metadata": {
    "colab": {
      "name": "NeuralBit.ipynb",
      "provenance": [],
      "collapsed_sections": [],
      "include_colab_link": true
    },
    "kernelspec": {
      "name": "python3",
      "display_name": "Python 3"
    }
  },
  "cells": [
    {
      "cell_type": "markdown",
      "metadata": {
        "id": "view-in-github",
        "colab_type": "text"
      },
      "source": [
        "<a href=\"https://colab.research.google.com/github/iammeskat/HateSpeechDetection/blob/main/NeuralBit.ipynb\" target=\"_parent\"><img src=\"https://colab.research.google.com/assets/colab-badge.svg\" alt=\"Open In Colab\"/></a>"
      ]
    },
    {
      "cell_type": "code",
      "metadata": {
        "id": "57gQBDx7cSqh",
        "outputId": "69501bde-36b6-4052-9c8e-49b0c5e50044",
        "colab": {
          "base_uri": "https://localhost:8080/",
          "height": 88
        }
      },
      "source": [
        "#from google.colab import drive\n",
        "#drive.mount('/content/drive')\n",
        "#import base64\n",
        "import requests\n",
        "dev_data = 'https://raw.githubusercontent.com/iammeskat/HateSpeechDetection/main/dev.txt'\n",
        "test_data = 'https://raw.githubusercontent.com/iammeskat/HateSpeechDetection/main/test.txt'\n",
        "train_data = 'https://raw.githubusercontent.com/iammeskat/HateSpeechDetection/main/train.txt'\n",
        " \n",
        "def pre_process(docs):\n",
        "  combined_doc = []\n",
        "\n",
        "  # To lowercase\n",
        "  lowercased_doc = []\n",
        "  for sent in docs:\n",
        "    lowercased_sent = []\n",
        "    for word in sent:\n",
        "      lowercased_sent.append(word.lower())\n",
        "    lowercased_doc.append(lowercased_sent)\n",
        "\n",
        "  return lowercased_doc\n",
        "\n",
        "\n",
        "def separate_labels(data):\n",
        "  documents = []\n",
        "  labels = []\n",
        "\n",
        "  for line in data:\n",
        "    splitted_line = line.strip().split()\n",
        "    documents.append(splitted_line[1:-1])\n",
        "    labels.append(splitted_line[-1:])\n",
        "\n",
        "  return documents, labels\n",
        "\n",
        "def read_file(url):\n",
        "  file = requests.get(url).text\n",
        "  data = file.strip().split('\\n')\n",
        "  return data\n",
        "\n",
        "if __name__ == \"__main__\":\n",
        "\n",
        "    print('Reading The Dataset....')\n",
        "    train_data  = read_file(dev_data)\n",
        "    test_data = read_file(test_data)\n",
        "\n",
        "    train_docs, train_labels = separate_labels(train_data)\n",
        "    test_docs, test_labels = separate_labels(test_data)\n",
        "    #print(train_labels)\n",
        "    #print(train_docs)\n",
        "\n",
        "    preprocessed_train_docs = pre_process(train_docs)\n",
        "    preprocessed_test_docs = pre_process(test_docs)\n",
        "    print(preprocessed_train_docs[0])\n",
        "    print(preprocessed_test_docs[0])\n",
        "\n",
        "  \n"
      ],
      "execution_count": null,
      "outputs": [
        {
          "output_type": "stream",
          "text": [
            "Reading The Dataset....\n",
            "['rt', '@amitshah:', 'today', 'i', 'will', 'be', 'holding', 'a', 'road', 'show', 'in', 'north', 'kolkata,', 'starting', 'from', 'shaheed', 'minar', 'maidan', 'to', 'swami', 'vivekananda', 'house', 'in', 'maniktala.', 'bengal', 'is', 'yearning', 'for', 'change,', 'bengal', 'wants', 'development,', 'bengal', 'wants', 'modi.', 'come,', 'join', 'us', 'to', '#savebengal.', 'jai', 'shri', 'ram.', '#hargharmodi', 'https://t.co/17q3m4fopm']\n",
            "['west', 'bengal', 'doctor', 'crisis:', 'protesting', 'doctors', 'agree', 'to', 'meet', 'mamata', 'banerjee', 'in', 'presence', 'of', 'full', 'media', 'even', 'as', 'ima', 'goes', 'on']\n"
          ],
          "name": "stdout"
        }
      ]
    },
    {
      "cell_type": "markdown",
      "metadata": {
        "id": "iUuEEkhg89eT"
      },
      "source": [
        ""
      ]
    }
  ]
}